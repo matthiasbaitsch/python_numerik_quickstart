{
 "cells": [
  {
   "cell_type": "markdown",
   "metadata": {},
   "source": [
    "# Matrizen und Vektoren mit NumPy\n",
    "\n",
    "In numerischen Anwendungen sind Matrizen und Vektoren allgegenwärtig. In Python gibt es die Bibliothek NumPy, \n",
    "die mit [`ndarray`](https://numpy.org/doc/stable/reference/generated/numpy.ndarray.html)\n",
    "einen entsprechenden Datentyp und zugehörige Rechenoperationen zur Verfügung stellt.\n",
    "\n",
    "Wie immer in Python müssen wir die Bibliothek zunächst importieren. Es sich eingebürgert, dass Funktionen aus NumPy über das\n",
    "Kürzel `np` aufgerufen werden, wir werden uns (etwas widerwillig) an diese Konvention halten. Daher beginnt ein Jupyter Notebook \n",
    "oder eine Python - Datei, in denen NumPy verwendet werden soll, immer mit der Anweisung"
   ]
  },
  {
   "cell_type": "code",
   "execution_count": 1,
   "metadata": {},
   "outputs": [],
   "source": [
    "import numpy as np"
   ]
  },
  {
   "cell_type": "markdown",
   "metadata": {},
   "source": [
    "## Grundlagen\n",
    "\n",
    "In NumPy sind Vektoren und Matrizen Spezialfälle von $n$-dimensionalen Arrays (daher der Name `ndarray`), für einen Vektor gilt $n = 1$ und für eine Matrix $n = 2$.\n",
    "Uns wird das in der Regel ausreichen, aber prinzipiell kann man auch mit fünfdimensionalen Arrays rechnen.\n",
    "\n",
    "### Erzeugen\n",
    "\n",
    "Eine erste Möglichkeit Vektoren und Matrizen zu erzeugen besteht darin, die `array` - Funktion zu verwenden und die **Einträge direkt anzugeben**:"
   ]
  },
  {
   "cell_type": "code",
   "execution_count": 2,
   "metadata": {},
   "outputs": [
    {
     "name": "stdout",
     "output_type": "stream",
     "text": [
      "x = [5 1 9 2]\n",
      "y = [1 2 1 3]\n",
      "A = [[1 2 3 4]\n",
      " [7 6 5 4]\n",
      " [6 4 6 4]]\n",
      "B = [[2 1]\n",
      " [5 6]\n",
      " [9 1]]\n"
     ]
    }
   ],
   "source": [
    "x = np.array([5, 1, 9, 2])\n",
    "y = np.array([1, 2, 1, 3])\n",
    "A = np.array([[1, 2, 3, 4], [7, 6, 5, 4], [6, 4, 6, 4]])\n",
    "B = np.array([[2, 1], [5, 6], [9, 1]])\n",
    "\n",
    "print('x =', x)\n",
    "print('y =', y)\n",
    "print('A =', A)\n",
    "print('B =', B)"
   ]
  },
  {
   "cell_type": "markdown",
   "metadata": {},
   "source": [
    "Der Inhalt der Arrays (dieses Wort verwenden wir als Oberbegriff) wird also in Listen angegeben, wobei für eine Matrix eine Liste von Listen verwendet wird.\n",
    "\n",
    "Weiterhin gibt es Funktionen, mit denen sich **spezielle Matrizen und Vektoren** anlegen lassen."
   ]
  },
  {
   "cell_type": "code",
   "execution_count": 3,
   "metadata": {},
   "outputs": [
    {
     "name": "stdout",
     "output_type": "stream",
     "text": [
      "Nullvektor: [0. 0. 0.]\n",
      "Nullmatrix: [[0. 0. 0.]\n",
      " [0. 0. 0.]]\n",
      "Einsmatrix: [[1. 1.]\n",
      " [1. 1.]\n",
      " [1. 1.]\n",
      " [1. 1.]]\n",
      "Einheitsmatrix: [[1. 0. 0. 0.]\n",
      " [0. 1. 0. 0.]\n",
      " [0. 0. 1. 0.]\n",
      " [0. 0. 0. 1.]]\n"
     ]
    }
   ],
   "source": [
    "print('Nullvektor:', np.zeros(3))\n",
    "print('Nullmatrix:', np.zeros([2, 3]))\n",
    "print('Einsmatrix:', np.ones([4, 2]))\n",
    "print('Einheitsmatrix:', np.eye(4))"
   ]
  },
  {
   "cell_type": "markdown",
   "metadata": {},
   "source": [
    "Besonders praktisch ist die Funktion `np.linspace`, die ein Intervall von $a$ bis $b$ in $n - 1$ gleichlange Abschnitte unterteilt."
   ]
  },
  {
   "cell_type": "code",
   "execution_count": 4,
   "metadata": {},
   "outputs": [
    {
     "name": "stdout",
     "output_type": "stream",
     "text": [
      "z= [1.1 1.2 1.3 1.4 1.5 1.6 1.7 1.8 1.9 2.  2.1]\n"
     ]
    }
   ],
   "source": [
    "z = np.linspace(1.1, 2.1, 11)\n",
    "print('z=', z)"
   ]
  },
  {
   "cell_type": "markdown",
   "metadata": {},
   "source": [
    "### Eigenschaften von Arrays\n",
    "\n",
    "Ein `ndarray` - Objekt besitzt die Eigenschaft `shape`, in der die Dimensionen abgelegt sind. Hier für einen Vektor"
   ]
  },
  {
   "cell_type": "code",
   "execution_count": 5,
   "metadata": {},
   "outputs": [
    {
     "name": "stdout",
     "output_type": "stream",
     "text": [
      "Anzahl der Element in z: 11\n"
     ]
    }
   ],
   "source": [
    "print('Anzahl der Element in z:', z.shape[0])"
   ]
  },
  {
   "cell_type": "markdown",
   "metadata": {},
   "source": [
    "und eine Matrix"
   ]
  },
  {
   "cell_type": "code",
   "execution_count": 6,
   "metadata": {},
   "outputs": [
    {
     "name": "stdout",
     "output_type": "stream",
     "text": [
      "Die Matrix A hat 3 Zeilen und 4 Spalten\n"
     ]
    }
   ],
   "source": [
    "print('Die Matrix A hat', A.shape[0], 'Zeilen und', A.shape[1], 'Spalten')"
   ]
  },
  {
   "cell_type": "markdown",
   "metadata": {},
   "source": [
    "### Auf Einträge zugreifen\n",
    "\n",
    "Um auf die Einträge von Arrays zuzugreifen verwendet man (wie auch bei Python-Listen) eckige Klammern `[]`, die Indizierung\n",
    "beginnt bei 0. Bei Matrizen werden Zeilen- und Spaltenindex durch ein Komma getrennt."
   ]
  },
  {
   "cell_type": "code",
   "execution_count": 7,
   "metadata": {},
   "outputs": [
    {
     "name": "stdout",
     "output_type": "stream",
     "text": [
      "A = [[  1   2   3   4]\n",
      " [  7   6 999   4]\n",
      " [  6   4   6   4]]\n",
      "x[0] = 5\n"
     ]
    }
   ],
   "source": [
    "A[1, 2] = 999\n",
    "print('A =', A)\n",
    "print('x[0] =', x[0])"
   ]
  },
  {
   "cell_type": "markdown",
   "metadata": {},
   "source": [
    "Mit negativen Indizes wird vom Ende des Arrays gezählt. Dabei erhält man mit dem Index -1 das letzte Element, mit -2 das vorletzte und so weiter."
   ]
  },
  {
   "cell_type": "code",
   "execution_count": 8,
   "metadata": {},
   "outputs": [
    {
     "name": "stdout",
     "output_type": "stream",
     "text": [
      "     x =  [0.  0.1 0.2 0.3 0.4 0.5 0.6 0.7 0.8 0.9 1. ]\n",
      " x[-1] =  1.0\n",
      " x[-2] =  0.9\n",
      "x[-11] =  0.0\n"
     ]
    }
   ],
   "source": [
    "x = np.linspace(0, 1, 11)\n",
    "\n",
    "print('     x = ', x)\n",
    "print(' x[-1] = ', x[-1])\n",
    "print(' x[-2] = ', x[-2])\n",
    "print('x[-11] = ', x[-11])"
   ]
  },
  {
   "cell_type": "markdown",
   "metadata": {},
   "source": [
    "Häufig möchte man in einem Rechenschritt auf mehrere Einträge eines Arrays gleichzeitig zugreifen. Hierfür gibt es zwei Möglichkeiten:\n",
    "\n",
    "- Den Doppelpunkt-Operator\n",
    "- Die Indizierung mithilfe von Integer-Arrays \n",
    "\n",
    "Vollständig erklärt ist das in der [NumPy-Dokumentation](https://numpy.org/doc/stable/reference/arrays.indexing.html), leider ist die\n",
    "Erläuterung sehr technisch und schwer zugänglich. Im Folgenden sind daher die wichtigsten Punkte zusammengefasst.\n",
    "\n",
    "#### Doppelpunkt-Operator\n",
    "\n",
    "Mit der Schreibweise `start:stop` wird ein Bereich von Indizes angegeben. Dabei ist der `stop`-Index nicht enthalten (so wie bei der `range` - Funktion). Mit"
   ]
  },
  {
   "cell_type": "code",
   "execution_count": 9,
   "metadata": {},
   "outputs": [
    {
     "name": "stdout",
     "output_type": "stream",
     "text": [
      "[1.3 1.4 1.5]\n"
     ]
    }
   ],
   "source": [
    "print(z[2:5])"
   ]
  },
  {
   "cell_type": "markdown",
   "metadata": {},
   "source": [
    "erhalten wir also die Einträge an den Positionen $2, 3, 4$. Zusätzlich kann man mit `start:stop:inc` noch ein Inkrement angeben, \n",
    "zum Beispiel bekommen wir mit"
   ]
  },
  {
   "cell_type": "code",
   "execution_count": 10,
   "metadata": {},
   "outputs": [
    {
     "name": "stdout",
     "output_type": "stream",
     "text": [
      "[1.3 1.6]\n"
     ]
    }
   ],
   "source": [
    "print(z[2:7:3])"
   ]
  },
  {
   "cell_type": "markdown",
   "metadata": {},
   "source": [
    "den dritten und den sechsten Eintrag. Lässt man hingegen `start` und/oder `stop` weg, dann erhält man den gesamten Bereich vom Anfang oder bis zum Ende. \n",
    "Damit wird es zum Beispiel möglich, auf Zeilen oder Spalten einer Matrix zuzugreifen."
   ]
  },
  {
   "cell_type": "code",
   "execution_count": 11,
   "metadata": {},
   "outputs": [
    {
     "name": "stdout",
     "output_type": "stream",
     "text": [
      "[1.4 1.5 1.6 1.7 1.8 1.9 2.  2.1]\n",
      "[  7   6 999   4]\n",
      "[2 5 9]\n"
     ]
    }
   ],
   "source": [
    "print(z[3:])\n",
    "print(A[1, :])\n",
    "print(B[:, 0])"
   ]
  },
  {
   "cell_type": "markdown",
   "metadata": {},
   "source": [
    "Die Adressierung mit dem Doppelpunkt funktioniert auch bei Zuweisungen. Hier ein Beispiel:"
   ]
  },
  {
   "cell_type": "code",
   "execution_count": 12,
   "metadata": {},
   "outputs": [
    {
     "name": "stdout",
     "output_type": "stream",
     "text": [
      "A = [[ 1 44 88  4]\n",
      " [ 7 22 99  4]\n",
      " [ 6  4  6  4]]\n",
      "B = [[  2   1]\n",
      " [  5 777]\n",
      " [  9 777]]\n"
     ]
    }
   ],
   "source": [
    "A[0:2, 1:3] = np.array([[44, 88], [22, 99]])\n",
    "B[1:, 1] = 777\n",
    "print('A =', A)\n",
    "print('B =', B)"
   ]
  },
  {
   "cell_type": "markdown",
   "metadata": {},
   "source": [
    "Es kann rechts vom Gleichheitszeichen also sowohl ein Array (dann müssen die Dimensionen passen) als auch eine einzelne Zahl stehen."
   ]
  },
  {
   "cell_type": "markdown",
   "metadata": {},
   "source": [
    "#### Index-Arrays\n",
    "\n",
    "Mithilfe von Index-Arrays lassen sich nicht-fortlaufende Bereiche adressieren, zum Beispiel liefert das Index-Array `[2, 4, 5]` in"
   ]
  },
  {
   "cell_type": "code",
   "execution_count": 13,
   "metadata": {},
   "outputs": [
    {
     "name": "stdout",
     "output_type": "stream",
     "text": [
      "[1.3 1.5 1.6]\n"
     ]
    }
   ],
   "source": [
    "print(z[[2,4,5]])"
   ]
  },
  {
   "cell_type": "markdown",
   "metadata": {},
   "source": [
    "den dritten, fünften und sechsten Eintrag des Arrays `z`. \n",
    "\n",
    "Anmerkung: Streng genommen ist `[2, 4, 5]` eine Python-Liste, aber da sind wir (und der Python-Interpreter) großzügig.\n",
    "\n",
    "Index-Arrays funktionieren auch bei Matrizen, leider muss man hier jedoch die Index-Arrays mit `np.ix_` einpacken:"
   ]
  },
  {
   "cell_type": "code",
   "execution_count": 13,
   "metadata": {},
   "outputs": [
    {
     "name": "stdout",
     "output_type": "stream",
     "text": [
      " Vorher: A = [[1. 1. 1. 1. 1.]\n",
      " [1. 1. 1. 1. 1.]\n",
      " [1. 1. 1. 1. 1.]]\n",
      "Nachher: A = [[  1. 111.   1. 999.   1.]\n",
      " [  1.   1.   1.   1.   1.]\n",
      " [  1. 444.   1. 777.   1.]]\n"
     ]
    }
   ],
   "source": [
    "A = np.ones([3, 5])\n",
    "print(' Vorher: A =', A)\n",
    "A[np.ix_([0, 2], [1, 3])] = [[111, 999], [444, 777]]\n",
    "print('Nachher: A =', A)"
   ]
  },
  {
   "cell_type": "markdown",
   "metadata": {},
   "source": [
    "Es gibt noch die Möglichkeit, Boolsche-Arrays zur Indizierung zu verwenden, das werden wir aber vorraussichtlich nicht benötigen."
   ]
  },
  {
   "cell_type": "markdown",
   "metadata": {},
   "source": [
    "## Rechnen mit Matrizen und Vektoren\n",
    "\n",
    "Mit NumPy ist es möglich, Rechnungen mit Matrizen und Vektoren sehr kompakt und fast wie auf dem Papier aufzuschreiben. Allerdings muss man\n",
    "bei der Bedeutung der Operatoren aufpassen.\n",
    "\n",
    "### Mathematische Operatoren und Funktionen\n",
    "\n",
    "Die mathematischen Operatoren sind elementweise vereinbart. Hier am Beispiel von Vektoren"
   ]
  },
  {
   "cell_type": "code",
   "execution_count": 14,
   "metadata": {},
   "outputs": [
    {
     "name": "stdout",
     "output_type": "stream",
     "text": [
      "x = [5 1 9 2] , y = [1 2 1 3]\n",
      "x + y = [ 6  3 10  5]\n",
      "x * y = [5 2 9 6]\n",
      "y / 4 = [0.25 0.5  0.25 0.75]\n"
     ]
    }
   ],
   "source": [
    "print('x =', x, ', y =', y)\n",
    "print('x + y =', x + y)\n",
    "print('x * y =', x * y)\n",
    "print('y / 4 =', y / 4)"
   ]
  },
  {
   "cell_type": "markdown",
   "metadata": {},
   "source": [
    "und Matrizen"
   ]
  },
  {
   "cell_type": "code",
   "execution_count": 15,
   "metadata": {},
   "outputs": [
    {
     "name": "stdout",
     "output_type": "stream",
     "text": [
      "A + B = [[10  9]\n",
      " [11  4]\n",
      " [ 7 15]]\n",
      "A * B = [[21  8]\n",
      " [24  4]\n",
      " [10 54]]\n"
     ]
    }
   ],
   "source": [
    "A = np.array([[3, 1],[8, 2],[2, 9]])\n",
    "B = np.array([[7, 8],[3, 2],[5, 6]])\n",
    "print('A + B =', A + B)\n",
    "print('A * B =', A * B)"
   ]
  },
  {
   "cell_type": "markdown",
   "metadata": {},
   "source": [
    "Darüber hinaus definiert NumPy die üblichen mathetischen Funktionen für Arrays. Ein Ausdruck wie zum Beispiel\n",
    "\n",
    "$$\n",
    "    1 - sin(x) + x^2\n",
    "$$\n",
    "\n",
    "kann damit in einem Rutsch für eine Liste von Zahlen berechnet werden:"
   ]
  },
  {
   "cell_type": "code",
   "execution_count": 16,
   "metadata": {},
   "outputs": [
    {
     "name": "stdout",
     "output_type": "stream",
     "text": [
      "y = [26.95892427  1.15852902 81.58788151  4.09070257]\n"
     ]
    }
   ],
   "source": [
    "y = 1 - np.sin(x) + x**2\n",
    "print('y =', y)"
   ]
  },
  {
   "cell_type": "markdown",
   "metadata": {},
   "source": [
    "### Lineare Algebra\n",
    "\n",
    "Das **Skalarprodukt** von Vektoren lässt sich entweder mit der Funktion `dot` berechnen oder der Methode `dot` aus der `ndarray` Klasse."
   ]
  },
  {
   "cell_type": "code",
   "execution_count": 17,
   "metadata": {},
   "outputs": [
    {
     "name": "stdout",
     "output_type": "stream",
     "text": [
      "x.y = 878.4254891676806\n",
      "x.y = 878.4254891676806\n"
     ]
    }
   ],
   "source": [
    "print('x.y =', np.dot(x, y))\n",
    "print('x.y =', x.dot(y))"
   ]
  },
  {
   "cell_type": "markdown",
   "metadata": {},
   "source": [
    "Für Vektoren mit zwei oder drei Komponenten wird das **Kreuzprodukt** mit der Funktion `cross` berechnet. Für Vektoren mit zwei Komponenten\n",
    "ist das Ergebnis eine Zahl (die dritte Komponente des Ergebnisvektors), sonst wieder ein Vektor mit zwei Komponenten. "
   ]
  },
  {
   "cell_type": "code",
   "execution_count": 18,
   "metadata": {},
   "outputs": [
    {
     "name": "stdout",
     "output_type": "stream",
     "text": [
      "u = [3 2 1]\n",
      "v = [ 5 -1  4]\n",
      "w = u x v = [  9  -7 -13]\n",
      "Natürlich gilt: u.w = 0 , v.w = 0\n"
     ]
    }
   ],
   "source": [
    "u = np.array([3, 2, 1])\n",
    "v = np.array([5, -1, 4])\n",
    "w = np.cross(u, v)\n",
    "\n",
    "print('u =', u)\n",
    "print('v =', v)\n",
    "print('w = u x v =', w)\n",
    "print('Natürlich gilt: u.w =', u.dot(w), ', v.w =', v.dot(w))"
   ]
  },
  {
   "cell_type": "markdown",
   "metadata": {},
   "source": [
    "Sollen **Produkte** von **Matrizen und Matrizen** oder **Matrizen und Vektoren** berechnet werden, dann verwendet man den `@` - Operator. \n",
    "Natürlich müssen dann wieder die Dimensionen der Operanden zusammenpassen."
   ]
  },
  {
   "cell_type": "code",
   "execution_count": 19,
   "metadata": {},
   "outputs": [
    {
     "name": "stdout",
     "output_type": "stream",
     "text": [
      "A = [[ 6  1  9  1]\n",
      " [ 3  4  1 10]]\n",
      "B = [[1 2 3 4]\n",
      " [5 4 3 2]\n",
      " [1 3 1 5]\n",
      " [5 3 1 8]]\n",
      "x =  [1 3 2 8]\n",
      "AB = [[ 25  46  31  79]\n",
      " [ 74  55  32 105]]\n",
      "Ax = [35 97]\n",
      "Bx = [45 39 52 80]\n"
     ]
    }
   ],
   "source": [
    "A = np.array([[6, 1, 9, 1], [3, 4, 1, 10]])\n",
    "B = np.array([[1, 2, 3, 4], [5, 4, 3, 2], [1, 3, 1, 5], [5, 3, 1, 8]])\n",
    "x = np.array([1, 3, 2, 8])\n",
    "\n",
    "print('A =', A)\n",
    "print('B =', B)\n",
    "print('x = ', x)\n",
    "print('AB =', A @ B)\n",
    "print('Ax =', A @ x)\n",
    "print('Bx =', B @ x)"
   ]
  },
  {
   "cell_type": "markdown",
   "metadata": {},
   "source": [
    "Die Transponierte einer Matrix `A` erhält man mit `A.T`, damit kann man dann auch wie gewohnt rechnen."
   ]
  },
  {
   "cell_type": "code",
   "execution_count": 20,
   "metadata": {},
   "outputs": [
    {
     "name": "stdout",
     "output_type": "stream",
     "text": [
      "A = [[ 6  1  9  1]\n",
      " [ 3  4  1 10]]\n",
      "A^T = [[ 6  3]\n",
      " [ 1  4]\n",
      " [ 9  1]\n",
      " [ 1 10]]\n",
      "A^TA = [[ 45  18  57  36]\n",
      " [ 18  17  13  41]\n",
      " [ 57  13  82  19]\n",
      " [ 36  41  19 101]]\n"
     ]
    }
   ],
   "source": [
    "print('A =', A)\n",
    "print('A^T =', A.T)\n",
    "print('A^TA =', A.T @ A)"
   ]
  },
  {
   "cell_type": "markdown",
   "metadata": {},
   "source": [
    "Zur Lösung linearer Gleichungssysteme gibt es die Funktion `solve` aus dem `linalg` - Paket von NumPy."
   ]
  },
  {
   "cell_type": "code",
   "execution_count": 21,
   "metadata": {},
   "outputs": [
    {
     "name": "stdout",
     "output_type": "stream",
     "text": [
      "Lösung x = [-0.14285714  2.85714286]\n",
      "Zur Kontrolle:  [0. 0.]\n"
     ]
    }
   ],
   "source": [
    "A = np.array([[5, 2], [6, 1]])\n",
    "b = np.array([5, 2])\n",
    "x = np.linalg.solve(A, b)\n",
    "\n",
    "print('Lösung x =', x)\n",
    "print('Zur Kontrolle: ', A @ x - b)"
   ]
  },
  {
   "cell_type": "markdown",
   "metadata": {},
   "source": [
    "### Exotische Operationen\n",
    "\n",
    "Ausführliche Erklärung hier:\n",
    "\n",
    "    https://numpy.org/doc/stable/user/basics.broadcasting.html\n",
    "\n",
    "#### Zeilen einer Matrix multiplizieren\n",
    "\n",
    "Sollen die Zeilen einer Matrix mit den Einträgen eines Vektors multipliziert werden, wie zum Beispiel\n",
    "\n",
    "$$\n",
    "\\begin{pmatrix}\n",
    "    2 \\\\ 3 \\\\ 4\n",
    "\\end{pmatrix}\n",
    "\\begin{pmatrix}\n",
    "    1 & 2 & 3 \\\\ 4 & 5 & 6 \\\\ 7 & 8 & 9\n",
    "\\end{pmatrix}\n",
    "\\rightarrow\n",
    "\\begin{pmatrix}\n",
    "    2 & 4 & 6 \\\\ 12 & 15 & 18 \\\\ 28 & 32 & 36\n",
    "\\end{pmatrix}\n",
    "$$\n",
    "\n",
    "dann kann man den `*`-Operator verwenden, muss aber bei dem Vektor noch eine Achse hinzufügen."
   ]
  },
  {
   "cell_type": "code",
   "execution_count": 42,
   "metadata": {},
   "outputs": [
    {
     "name": "stdout",
     "output_type": "stream",
     "text": [
      "c[:, None].shape = (3, 1)\n",
      "A.shape = (3, 3)\n",
      "c * A = [[ 2  4  6]\n",
      " [12 15 18]\n",
      " [28 32 36]]\n"
     ]
    }
   ],
   "source": [
    "c = np.arange(2, 5)\n",
    "A = np.arange(1, 10).reshape([3, 3])\n",
    "print('c[:, None].shape =', c[:, None].shape)\n",
    "print('A.shape =', A.shape)\n",
    "print('c * A =', c[:, None] * A)"
   ]
  },
  {
   "cell_type": "markdown",
   "metadata": {},
   "source": [
    "Warum funktioniert das? Weil die letzte Dimension 1 von `c[:, None]` auf die letzte Dimension 3 von `A` verteilt wird (__broadcasting__)."
   ]
  },
  {
   "cell_type": "markdown",
   "metadata": {},
   "source": [
    "#### Vektor von Zeilen einer Matrix addieren/subtrahieren\n",
    "\n",
    "Um einen Vektor zu allen Zeilen einer Matrix zu addieren/subtrahieren, wie in\n",
    "\n",
    "$$\n",
    "\\begin{pmatrix}\n",
    "    2 & 3 & 4\n",
    "\\end{pmatrix}\n",
    "+\n",
    "\\begin{pmatrix}\n",
    "    1 & 2 & 3 \\\\ 4 & 5 & 6 \\\\ 7 & 8 & 9\n",
    "\\end{pmatrix}\n",
    "\\rightarrow\n",
    "\\begin{pmatrix}\n",
    "    3 & 5 & 7 \\\\ 6 & 8 & 10 \\\\ 9 & 11 & 13\n",
    "\\end{pmatrix},\n",
    "$$\n",
    "\n",
    "verwendet man einfach den entsprechenden Operator.\n"
   ]
  },
  {
   "cell_type": "code",
   "execution_count": 43,
   "metadata": {},
   "outputs": [
    {
     "name": "stdout",
     "output_type": "stream",
     "text": [
      "c.shape = (3,)\n",
      "A.shape = (3, 3)\n",
      "c + A = [[ 3  5  7]\n",
      " [ 6  8 10]\n",
      " [ 9 11 13]]\n"
     ]
    }
   ],
   "source": [
    "c = np.arange(2, 5)\n",
    "A = np.arange(1, 10).reshape([3, 3])\n",
    "print('c.shape =', c.shape)\n",
    "print('A.shape =', A.shape)\n",
    "print('c + A =', c + A)"
   ]
  },
  {
   "cell_type": "markdown",
   "metadata": {},
   "source": [
    "Hier passt die letzte Dimension und die erste wird aufgefüllt. Man hätte die fehlende Achse auch explizit einsetzen können:"
   ]
  },
  {
   "cell_type": "code",
   "execution_count": 47,
   "metadata": {},
   "outputs": [
    {
     "name": "stdout",
     "output_type": "stream",
     "text": [
      "c[None, :].shape = (1, 3)\n",
      "A.shape = (3, 3)\n",
      "c + A = [[ 3  5  7]\n",
      " [ 6  8 10]\n",
      " [ 9 11 13]]\n"
     ]
    }
   ],
   "source": [
    "print('c[None, :].shape =', c[None, :].shape)\n",
    "print('A.shape =', A.shape)\n",
    "print('c + A =', c[None, :] + A)"
   ]
  }
 ],
 "metadata": {
  "interpreter": {
   "hash": "aee8b7b246df8f9039afb4144a1f6fd8d2ca17a180786b69acc140d282b71a49"
  },
  "kernelspec": {
   "display_name": "Python 3.9.7 64-bit",
   "name": "python3"
  },
  "language_info": {
   "codemirror_mode": {
    "name": "ipython",
    "version": 3
   },
   "file_extension": ".py",
   "mimetype": "text/x-python",
   "name": "python",
   "nbconvert_exporter": "python",
   "pygments_lexer": "ipython3",
   "version": "3.9.7"
  },
  "orig_nbformat": 4
 },
 "nbformat": 4,
 "nbformat_minor": 2
}
