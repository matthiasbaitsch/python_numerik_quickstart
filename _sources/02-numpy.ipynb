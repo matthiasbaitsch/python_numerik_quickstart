{
 "cells": [
  {
   "cell_type": "markdown",
   "source": [
    "# Matrizen und Vektoren mit NumPy\n",
    "\n",
    "In numerischen Anwendungen sind Matrizen und Vektoren allgegenwärtig. In Python gibt es die Bibliothek NumPy, \n",
    "die mit [`ndarray`](https://numpy.org/doc/stable/reference/generated/numpy.ndarray.html)\n",
    "einen entsprechenden Datentyp und zugehörige Rechenoperationen zur Verfügung stellt.\n",
    "\n",
    "Wie immer in Python müssen wir die Bibliothek zunächst importieren. Es sich eingebürgert, dass Funktionen aus NumPy über das\n",
    "Kürzel `np` aufgerufen werden, wir werden uns (etwas widerwillig) an diese Konvention halten. Daher beginnt ein Jupyter Notebook \n",
    "oder eine Python - Datei, in denen NumPy verwendet werden soll, immer mit der Anweisung"
   ],
   "metadata": {}
  },
  {
   "cell_type": "code",
   "execution_count": 1,
   "source": [
    "import numpy as np"
   ],
   "outputs": [],
   "metadata": {}
  },
  {
   "cell_type": "markdown",
   "source": [
    "## Vektoren und Matrizen\n",
    "\n",
    "In NumPy sind Vektoren und Matrizen Spezialfälle von $n$-dimensionalen Arrays (daher der Name `ndarray`), für einen Vektor gilt $n = 1$ und für eine Matrix $n = 2$.\n",
    "Uns wird das in der Regel ausreichen, aber prinzipiell kann man auch mit fünfdimensionalen Arrays rechnen.\n",
    "\n",
    "### Erzeugen\n",
    "\n",
    "Eine erste Möglichkeit Vektoren und Matrizen zu erzeugen besteht darin, die `array` - Funktion zu verwenden und die **Einträge direkt anzugeben**:"
   ],
   "metadata": {}
  },
  {
   "cell_type": "code",
   "execution_count": 2,
   "source": [
    "x = np.array([5, 1, 9, 2])\n",
    "y = np.array([1, 2, 1, 3])\n",
    "A = np.array([[1, 2, 3, 4], [7, 6, 5, 4], [6, 4, 6, 4]])\n",
    "B = np.array([[2, 1], [5, 6], [9, 1]])\n",
    "\n",
    "print('x =', x)\n",
    "print('y =', y)\n",
    "print('A =', A)\n",
    "print('B =', B)"
   ],
   "outputs": [
    {
     "output_type": "stream",
     "name": "stdout",
     "text": [
      "x = [5 1 9 2]\n",
      "y = [1 2 1 3]\n",
      "A = [[1 2 3 4]\n",
      " [7 6 5 4]\n",
      " [6 4 6 4]]\n",
      "B = [[2 1]\n",
      " [5 6]\n",
      " [9 1]]\n"
     ]
    }
   ],
   "metadata": {}
  },
  {
   "cell_type": "markdown",
   "source": [
    "Der Inhalt der Arrays (dieses Wort verwenden wir als Oberbegriff) wird also in Listen angegeben, wobei für eine Matrix eine Liste von Listen verwendet wird.\n",
    "\n",
    "Weiterhin gibt es Funktionen, mit denen sich **spezielle Matrizen und Vektoren** anlegen lassen."
   ],
   "metadata": {}
  },
  {
   "cell_type": "code",
   "execution_count": 3,
   "source": [
    "print('Nullvektor:', np.zeros(3))\n",
    "print('Nullmatrix:', np.zeros([2, 3]))\n",
    "print('Einsmatrix:', np.ones([4, 2]))\n",
    "print('Einheitsmatrix:', np.eye(4))"
   ],
   "outputs": [
    {
     "output_type": "stream",
     "name": "stdout",
     "text": [
      "Nullvektor: [0. 0. 0.]\n",
      "Nullmatrix: [[0. 0. 0.]\n",
      " [0. 0. 0.]]\n",
      "Einsmatrix: [[1. 1.]\n",
      " [1. 1.]\n",
      " [1. 1.]\n",
      " [1. 1.]]\n",
      "Einheitsmatrix: [[1. 0. 0. 0.]\n",
      " [0. 1. 0. 0.]\n",
      " [0. 0. 1. 0.]\n",
      " [0. 0. 0. 1.]]\n"
     ]
    }
   ],
   "metadata": {}
  },
  {
   "cell_type": "markdown",
   "source": [
    "Besonders praktisch ist die Funktion `linspace`, die ein Intervall von $a$ bis $b$ in $n - 1$ gleichlange Abschnitte unterteilt."
   ],
   "metadata": {}
  },
  {
   "cell_type": "code",
   "execution_count": 4,
   "source": [
    "z = np.linspace(1.1, 2.1, 11)\n",
    "print('z=', z)"
   ],
   "outputs": [
    {
     "output_type": "stream",
     "name": "stdout",
     "text": [
      "z= [1.1 1.2 1.3 1.4 1.5 1.6 1.7 1.8 1.9 2.  2.1]\n"
     ]
    }
   ],
   "metadata": {}
  },
  {
   "cell_type": "markdown",
   "source": [
    "### Eigenschaften von Arrays\n",
    "\n",
    "Ein `ndarray` - Objekt besitzt die Eigenschaft `shape`, in der die Dimensionen abgelegt sind. Hier für einen Vektor"
   ],
   "metadata": {}
  },
  {
   "cell_type": "code",
   "execution_count": 5,
   "source": [
    "print('Anzahl der Element in z:', z.shape[0])"
   ],
   "outputs": [
    {
     "output_type": "stream",
     "name": "stdout",
     "text": [
      "Anzahl der Element in z: 11\n"
     ]
    }
   ],
   "metadata": {}
  },
  {
   "cell_type": "markdown",
   "source": [
    "und eine Matrix"
   ],
   "metadata": {}
  },
  {
   "cell_type": "code",
   "execution_count": 6,
   "source": [
    "print('Die Matrix A hat', A.shape[0], 'Zeilen und', A.shape[1], 'Spalten')"
   ],
   "outputs": [
    {
     "output_type": "stream",
     "name": "stdout",
     "text": [
      "Die Matrix A hat 3 Zeilen und 4 Spalten\n"
     ]
    }
   ],
   "metadata": {}
  },
  {
   "cell_type": "markdown",
   "source": [
    "### 1.3 Auf Einträge zugreifen\n",
    "\n",
    "Um auf die Einträge von Arrays zuzugreifen verwendet man (wie auch bei Python-Listen) eckige Klammern `[]`, die Indizierung\n",
    "beginnt bei 0. Bei Matrizen werden Zeilen- und Spaltenindex durch ein Komma getrennt."
   ],
   "metadata": {}
  },
  {
   "cell_type": "code",
   "execution_count": 7,
   "source": [
    "A[1, 2] = 999\n",
    "print('A =', A)\n",
    "print('x[0] =', x[0])"
   ],
   "outputs": [
    {
     "output_type": "stream",
     "name": "stdout",
     "text": [
      "A = [[  1   2   3   4]\n",
      " [  7   6 999   4]\n",
      " [  6   4   6   4]]\n",
      "x[0] = 5\n"
     ]
    }
   ],
   "metadata": {}
  },
  {
   "cell_type": "markdown",
   "source": [
    "Häufig möchte man in einem Rechenschritt auf mehrere Einträge eines Arrays gleichzeitig zugreifen. Hierfür gibt es zwei Möglichkeiten:\n",
    "\n",
    "- Den Doppelpunkt-Operator\n",
    "- Die Indizierung mithilfe von Integer-Arrays \n",
    "\n",
    "Vollständig erklärt ist das in der [NumPy-Dokumentation](https://numpy.org/doc/stable/reference/arrays.indexing.html), leider ist die\n",
    "Erläuterung sehr technisch und schwer zugänglich. Im Folgenden sind daher die wichtigsten Punkte zusammengefasst.\n",
    "\n",
    "#### Doppelpunkt-Operator\n",
    "\n",
    "Mit der Schreibweise `start:stop` wird ein Bereich von Indizes angegeben. Dabei ist der `stop`-Index nicht enthalten (so wie bei der `range` - Funktion). Mit"
   ],
   "metadata": {}
  },
  {
   "cell_type": "code",
   "execution_count": 8,
   "source": [
    "print(z[2:5])"
   ],
   "outputs": [
    {
     "output_type": "stream",
     "name": "stdout",
     "text": [
      "[1.3 1.4 1.5]\n"
     ]
    }
   ],
   "metadata": {}
  },
  {
   "cell_type": "markdown",
   "source": [
    "erhalten wir also die Einträge an den Positionen von 3 bis 5. Zusätzlich kann man mit `start:stop:inc` noch ein Inkrement angeben, \n",
    "zum Beispiel bekommen wir mit"
   ],
   "metadata": {}
  },
  {
   "cell_type": "code",
   "execution_count": 9,
   "source": [
    "print(z[2:7:3])"
   ],
   "outputs": [
    {
     "output_type": "stream",
     "name": "stdout",
     "text": [
      "[1.3 1.6]\n"
     ]
    }
   ],
   "metadata": {}
  },
  {
   "cell_type": "markdown",
   "source": [
    "den dritten und den sechsten Eintrag. Lässt man hingegen `start` und/oder `stop` weg, dann erhält man den gesamten Bereich vom Anfang oder bis zum Ende. \n",
    "Damit wird es zum Beispiel möglich, auf Zeilen oder Spalten einer Matrix zuzugreifen."
   ],
   "metadata": {}
  },
  {
   "cell_type": "code",
   "execution_count": 10,
   "source": [
    "print(z[3:])\n",
    "print(A[1, :])\n",
    "print(B[:, 0])"
   ],
   "outputs": [
    {
     "output_type": "stream",
     "name": "stdout",
     "text": [
      "[1.4 1.5 1.6 1.7 1.8 1.9 2.  2.1]\n",
      "[  7   6 999   4]\n",
      "[2 5 9]\n"
     ]
    }
   ],
   "metadata": {}
  },
  {
   "cell_type": "markdown",
   "source": [
    "Die Adressierung mit dem Doppelpunkt funktioniert auch bei Zuweisungen. Hier ein Beispiel:"
   ],
   "metadata": {}
  },
  {
   "cell_type": "code",
   "execution_count": 11,
   "source": [
    "A[0:2, 1:3] = np.array([[44, 88], [22, 99]])\n",
    "B[1:, 1] = 777\n",
    "print('A =', A)\n",
    "print('B =', B)"
   ],
   "outputs": [
    {
     "output_type": "stream",
     "name": "stdout",
     "text": [
      "A = [[ 1 44 88  4]\n",
      " [ 7 22 99  4]\n",
      " [ 6  4  6  4]]\n",
      "B = [[  2   1]\n",
      " [  5 777]\n",
      " [  9 777]]\n"
     ]
    }
   ],
   "metadata": {}
  },
  {
   "cell_type": "markdown",
   "source": [
    "Es kann rechts vom Gleichheitszeichen also sowohl ein Array (dann müssen die Dimensionen passen) als auch eine einzelne Zahl stehen."
   ],
   "metadata": {}
  },
  {
   "cell_type": "markdown",
   "source": [
    "#### Index-Arrays\n",
    "\n",
    "Mithilfe von Index-Arrays lassen sich nicht-fortlaufende Bereiche adressieren, zum Beispiel liefert das Index-Array `[2, 4, 5]` in"
   ],
   "metadata": {}
  },
  {
   "cell_type": "code",
   "execution_count": 12,
   "source": [
    "print(z[[2,4,5]])"
   ],
   "outputs": [
    {
     "output_type": "stream",
     "name": "stdout",
     "text": [
      "[1.3 1.5 1.6]\n"
     ]
    }
   ],
   "metadata": {}
  },
  {
   "cell_type": "markdown",
   "source": [
    "den dritten, fünften und sechsten Eintrag des Arrays `z`. \n",
    "\n",
    "Anmerkung: Streng genommen ist `[2, 4, 5]` eine Python-Liste, aber da sind wir (und der Python-Interpreter) großzügig.\n",
    "\n",
    "Index-Arrays funktionieren auch bei Matrizen, leider muss man hier jedoch die Index-Arrays mit `np.ix_` einpacken:"
   ],
   "metadata": {}
  },
  {
   "cell_type": "code",
   "execution_count": 13,
   "source": [
    "A = np.ones([3, 5])\n",
    "print(' Vorher: A =', A)\n",
    "A[np.ix_([0, 2], [1, 3])] = [[111, 999], [444, 777]]\n",
    "print('Nachher: A =', A)"
   ],
   "outputs": [
    {
     "output_type": "stream",
     "name": "stdout",
     "text": [
      " Vorher: A = [[1. 1. 1. 1. 1.]\n",
      " [1. 1. 1. 1. 1.]\n",
      " [1. 1. 1. 1. 1.]]\n",
      "Nachher: A = [[  1. 111.   1. 999.   1.]\n",
      " [  1.   1.   1.   1.   1.]\n",
      " [  1. 444.   1. 777.   1.]]\n"
     ]
    }
   ],
   "metadata": {}
  },
  {
   "cell_type": "markdown",
   "source": [
    "Es gibt noch die Möglichkeit, Boolsche-Arrays zur Indizierung zu verwenden, das werden wir aber vorraussichtlich nicht benötigen."
   ],
   "metadata": {}
  },
  {
   "cell_type": "markdown",
   "source": [
    "## Rechnen mit Matrizen und Vektoren\n",
    "\n",
    "Mit NumPy ist es möglich, Rechnungen mit Matrizen und Vektoren sehr kompakt und fast wie auf dem Papier aufzuschreiben. Allerdings muss man\n",
    "bei der Bedeutung der Operatoren aufpassen.\n",
    "\n",
    "### Mathematische Operatoren und Funktionen\n",
    "\n",
    "Die mathematischen Operatoren sind elementweise vereinbart. Hier am Beispiel von Vektoren"
   ],
   "metadata": {}
  },
  {
   "cell_type": "code",
   "execution_count": 14,
   "source": [
    "print('x =', x, ', y =', y)\n",
    "print('x + y =', x + y)\n",
    "print('x * y =', x * y)\n",
    "print('y / 4 =', y / 4)"
   ],
   "outputs": [
    {
     "output_type": "stream",
     "name": "stdout",
     "text": [
      "x = [5 1 9 2] , y = [1 2 1 3]\n",
      "x + y = [ 6  3 10  5]\n",
      "x * y = [5 2 9 6]\n",
      "y / 4 = [0.25 0.5  0.25 0.75]\n"
     ]
    }
   ],
   "metadata": {}
  },
  {
   "cell_type": "markdown",
   "source": [
    "und Matrizen"
   ],
   "metadata": {}
  },
  {
   "cell_type": "code",
   "execution_count": 15,
   "source": [
    "A = np.array([[3, 1],[8, 2],[2, 9]])\n",
    "B = np.array([[7, 8],[3, 2],[5, 6]])\n",
    "print('A + B =', A + B)\n",
    "print('A * B =', A * B)"
   ],
   "outputs": [
    {
     "output_type": "stream",
     "name": "stdout",
     "text": [
      "A + B = [[10  9]\n",
      " [11  4]\n",
      " [ 7 15]]\n",
      "A * B = [[21  8]\n",
      " [24  4]\n",
      " [10 54]]\n"
     ]
    }
   ],
   "metadata": {}
  },
  {
   "cell_type": "markdown",
   "source": [
    "Darüber hinaus definiert NumPy die üblichen mathetischen Funktionen für Arrays. Ein Ausdruck wie zum Beispiel\n",
    "\n",
    "$$\n",
    "    1 - sin(x) + x^2\n",
    "$$\n",
    "\n",
    "kann damit in einem Rutsch für eine Liste von Zahlen berechnet werden:"
   ],
   "metadata": {}
  },
  {
   "cell_type": "code",
   "execution_count": 16,
   "source": [
    "y = 1 - np.sin(x) + x**2\n",
    "print('y =', y)"
   ],
   "outputs": [
    {
     "output_type": "stream",
     "name": "stdout",
     "text": [
      "y = [26.95892427  1.15852902 81.58788151  4.09070257]\n"
     ]
    }
   ],
   "metadata": {}
  },
  {
   "cell_type": "markdown",
   "source": [
    "### Lineare Algebra\n",
    "\n",
    "Das **Skalarprodukt** von Vektoren lässt sich entweder mit der Funktion `dot` berechnen oder der Methode `dot` aus der `ndarray` Klasse."
   ],
   "metadata": {}
  },
  {
   "cell_type": "code",
   "execution_count": 17,
   "source": [
    "print('x.y =', np.dot(x, y))\n",
    "print('x.y =', x.dot(y))"
   ],
   "outputs": [
    {
     "output_type": "stream",
     "name": "stdout",
     "text": [
      "x.y = 878.4254891676806\n",
      "x.y = 878.4254891676806\n"
     ]
    }
   ],
   "metadata": {}
  },
  {
   "cell_type": "markdown",
   "source": [
    "Für Vektoren mit zwei oder drei Komponenten wird das **Kreuzprodukt** mit der Funktion `cross` berechnet. Für Vektoren mit zwei Komponenten\n",
    "ist das Ergebnis eine Zahl (die dritte Komponente des Ergebnisvektors), sonst wieder ein Vektor mit zwei Komponenten. "
   ],
   "metadata": {}
  },
  {
   "cell_type": "code",
   "execution_count": 18,
   "source": [
    "u = np.array([3, 2, 1])\n",
    "v = np.array([5, -1, 4])\n",
    "w = np.cross(u, v)\n",
    "\n",
    "print('u =', u)\n",
    "print('v =', v)\n",
    "print('w = u x v =', w)\n",
    "print('Natürlich gilt: u.w =', u.dot(w), ', v.w =', v.dot(w))"
   ],
   "outputs": [
    {
     "output_type": "stream",
     "name": "stdout",
     "text": [
      "u = [3 2 1]\n",
      "v = [ 5 -1  4]\n",
      "w = u x v = [  9  -7 -13]\n",
      "Natürlich gilt: u.w = 0 , v.w = 0\n"
     ]
    }
   ],
   "metadata": {}
  },
  {
   "cell_type": "markdown",
   "source": [
    "Sollen **Produkte** von **Matrizen und Matrizen** oder **Matrizen und Vektoren** berechnet werden, dann verwendet man den `@` - Operator. \n",
    "Natürlich müssen dann wieder die Dimensionen der Operanden zusammenpassen."
   ],
   "metadata": {}
  },
  {
   "cell_type": "code",
   "execution_count": 19,
   "source": [
    "A = np.array([[6, 1, 9, 1], [3, 4, 1, 10]])\n",
    "B = np.array([[1, 2, 3, 4], [5, 4, 3, 2], [1, 3, 1, 5], [5, 3, 1, 8]])\n",
    "x = np.array([1, 3, 2, 8])\n",
    "\n",
    "print('A =', A)\n",
    "print('B =', B)\n",
    "print('x = ', x)\n",
    "print('AB =', A @ B)\n",
    "print('Ax =', A @ x)\n",
    "print('Bx =', B @ x)"
   ],
   "outputs": [
    {
     "output_type": "stream",
     "name": "stdout",
     "text": [
      "A = [[ 6  1  9  1]\n",
      " [ 3  4  1 10]]\n",
      "B = [[1 2 3 4]\n",
      " [5 4 3 2]\n",
      " [1 3 1 5]\n",
      " [5 3 1 8]]\n",
      "x =  [1 3 2 8]\n",
      "AB = [[ 25  46  31  79]\n",
      " [ 74  55  32 105]]\n",
      "Ax = [35 97]\n",
      "Bx = [45 39 52 80]\n"
     ]
    }
   ],
   "metadata": {}
  },
  {
   "cell_type": "markdown",
   "source": [
    "Die Transponierte einer Matrix `A` erhält man mit `A.T`, damit kann man dann auch wie gewohnt rechnen."
   ],
   "metadata": {}
  },
  {
   "cell_type": "code",
   "execution_count": 20,
   "source": [
    "print('A =', A)\n",
    "print('A^T =', A.T)\n",
    "print('A^TA =', A.T @ A)"
   ],
   "outputs": [
    {
     "output_type": "stream",
     "name": "stdout",
     "text": [
      "A = [[ 6  1  9  1]\n",
      " [ 3  4  1 10]]\n",
      "A^T = [[ 6  3]\n",
      " [ 1  4]\n",
      " [ 9  1]\n",
      " [ 1 10]]\n",
      "A^TA = [[ 45  18  57  36]\n",
      " [ 18  17  13  41]\n",
      " [ 57  13  82  19]\n",
      " [ 36  41  19 101]]\n"
     ]
    }
   ],
   "metadata": {}
  },
  {
   "cell_type": "markdown",
   "source": [
    "Zur Lösung linearer Gleichungssysteme gibt es die Funktion `solve` aus dem `linalg` - Paket von NumPy."
   ],
   "metadata": {}
  },
  {
   "cell_type": "code",
   "execution_count": 21,
   "source": [
    "A = np.array([[5, 2], [6, 1]])\n",
    "b = np.array([5, 2])\n",
    "x = np.linalg.solve(A, b)\n",
    "\n",
    "print('Lösung x =', x)\n",
    "print('Zur Kontrolle: ', A @ x - b)"
   ],
   "outputs": [
    {
     "output_type": "stream",
     "name": "stdout",
     "text": [
      "Lösung x = [-0.14285714  2.85714286]\n",
      "Zur Kontrolle:  [0. 0.]\n"
     ]
    }
   ],
   "metadata": {}
  }
 ],
 "metadata": {
  "orig_nbformat": 4,
  "language_info": {
   "name": "python",
   "version": "3.9.7",
   "mimetype": "text/x-python",
   "codemirror_mode": {
    "name": "ipython",
    "version": 3
   },
   "pygments_lexer": "ipython3",
   "nbconvert_exporter": "python",
   "file_extension": ".py"
  },
  "kernelspec": {
   "name": "python3",
   "display_name": "Python 3.9.7 64-bit"
  },
  "interpreter": {
   "hash": "aee8b7b246df8f9039afb4144a1f6fd8d2ca17a180786b69acc140d282b71a49"
  }
 },
 "nbformat": 4,
 "nbformat_minor": 2
}