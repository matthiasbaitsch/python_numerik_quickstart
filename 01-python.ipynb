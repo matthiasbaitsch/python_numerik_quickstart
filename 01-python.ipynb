{
 "cells": [
  {
   "cell_type": "markdown",
   "source": [
    "# Quickstart: Python und Jupyter Notebooks\n",
    "\n",
    "Matthias Baitsch, Hochschule Bochum\n",
    "\n",
    "## 1. Vorbemerkung\n",
    "\n",
    "Dieses Dokument ist eine komprimierte Einführung in das Programmieren in Python mit Jupyter Notebooks. Es richtet sich an Menschen, \n",
    "die schon Erfahrungen im Programmieren gesammelt haben und fasst die allerwichtigsten Sprachelemente von Python zusammen.\n",
    "\n",
    "## 2. Jupyter Notebooks\n",
    "\n",
    "Ein Jupyter Notebook ist ein Dokument, das sowohl Text als auch Programmcode enthalten kann. \n",
    "In einer geeigneten Umgebung (z.B. browserbasiert in \n",
    "[JupyterLab](https://mybinder.org/v2/gh/jupyterlab/jupyterlab-demo/master?urlpath=lab/tree/demo) \n",
    "oder einer Entwicklungsumgebung wie\n",
    "[Visual Studio Code](https://code.visualstudio.com/docs/datascience/jupyter-notebooks)\n",
    ") \n",
    "können damit interaktive Dokumente erstellt werden, die sich in verschiedene Formate exportieren lassen (HTML, PDF, LaTeX und Folien für Präsentationen).\n",
    "\n",
    "Ein Jupyter Notebook besteht aus Zellen die entweder\n",
    "\n",
    "- Text in [Markdown-Schreibweise](https://www.ibm.com/docs/en/db2-event-store/2.0.0?topic=notebooks-markdown-jupyter-cheatsheet) oder\n",
    "- Programmcode (bei uns Python)\n",
    "\n",
    "enthalten können. Textzellen lassen sich mit einem Doppelklick bearbeiten, mit `Shift + Enter` schließen Sie die Bearbeitung ab."
   ],
   "metadata": {}
  },
  {
   "cell_type": "markdown",
   "source": [
    "## 3. Variablen, Operatoren und mathematische Funktionen\n",
    "\n",
    "Variablen enthalten Werte, im Beispiel unten eine Zeichenkette, eine Fließkommazahl und eine ganze Zahl. Die Ausgabe erfolgt mit der `print` - Funktion."
   ],
   "metadata": {}
  },
  {
   "cell_type": "code",
   "execution_count": 1,
   "source": [
    "a = 'Hallo'\n",
    "x = 3.1\n",
    "y = 42\n",
    "print(a, x, y)"
   ],
   "outputs": [
    {
     "output_type": "stream",
     "name": "stdout",
     "text": [
      "Hallo 3.1 42\n"
     ]
    }
   ],
   "metadata": {}
  },
  {
   "cell_type": "markdown",
   "source": [
    "Für numerische Argumente haben die Operatoren `+`, `-`, `*`, `/` die üblichen Bedeutungen. Zusätzlich gibt es \n",
    "\n",
    "- `%` - Rest einer Division\n",
    "- `//` - Division mit Runden nach unten\n",
    "- `**` - Potenz"
   ],
   "metadata": {}
  },
  {
   "cell_type": "code",
   "execution_count": 2,
   "source": [
    "print(7 % 3)\n",
    "print(7 // 3)\n",
    "print(7 ** 3)"
   ],
   "outputs": [
    {
     "output_type": "stream",
     "name": "stdout",
     "text": [
      "0.8999999999999995\n",
      "2\n",
      "343\n"
     ]
    }
   ],
   "metadata": {}
  },
  {
   "cell_type": "markdown",
   "source": [
    "Um die gängigen mathematischen Funktionen wie `sqrt`, `pow`, `sin`, `cos`, ... verwenden zu können, muss zunächst die `math`-Bibliothek importiert werden. \n",
    "Dann stehen auch die mathematischen Konstanten $\\pi$ und $e$ zur Verfügung."
   ],
   "metadata": {}
  },
  {
   "cell_type": "code",
   "execution_count": 3,
   "source": [
    "from math import *\n",
    "\n",
    "print(sqrt(4))\n",
    "print(pi)\n",
    "print(e)"
   ],
   "outputs": [
    {
     "output_type": "stream",
     "name": "stdout",
     "text": [
      "2.0\n",
      "3.141592653589793\n",
      "2.718281828459045\n"
     ]
    }
   ],
   "metadata": {}
  },
  {
   "cell_type": "markdown",
   "source": [
    "### Beispiel\n",
    "\n",
    "Die quadratische Gleichung $ax^2 + bx + c = 0$ besitzt die Lösungen\n",
    "\n",
    "$$\n",
    "    x_{1,2} = \\frac{-b \\pm \\sqrt{b^2 - 4ac}}{2a}\n",
    "$$\n",
    "\n",
    "die hier in Python berechnet werden:"
   ],
   "metadata": {}
  },
  {
   "cell_type": "code",
   "execution_count": 4,
   "source": [
    "a = 2\n",
    "b = 1\n",
    "c = -9\n",
    "x1 = (-b - sqrt(b**2 - 4 * a * c)) / (2 * a)\n",
    "x2 = (-b + sqrt(b**2 - 4 * a * c)) / (2 * a)\n",
    "print('Lösungen: x1 =', x1, 'und x2 =', x2)"
   ],
   "outputs": [
    {
     "output_type": "stream",
     "name": "stdout",
     "text": [
      "Lösungen: x1 = -2.3860009363293826 und x2 = 1.8860009363293826\n"
     ]
    }
   ],
   "metadata": {}
  },
  {
   "cell_type": "markdown",
   "source": [
    "## 4. Listen\n",
    "\n",
    "Eine Liste in Python kann man sich als eine Sequenz von Kästchen vorstellen. Jedes Kästchen kann beliebige Python-Objekte enthalten, die beim Erzeugen der Liste\n",
    "in eckige Klammern geschrieben und durch Kommata getrennt werden."
   ],
   "metadata": {}
  },
  {
   "cell_type": "code",
   "execution_count": 5,
   "source": [
    "l = [pi, 'Hallo!', 2021]\n",
    "print('Liste l =', l)"
   ],
   "outputs": [
    {
     "output_type": "stream",
     "name": "stdout",
     "text": [
      "Liste l = [3.141592653589793, 'Hallo!', 2021]\n"
     ]
    }
   ],
   "metadata": {}
  },
  {
   "cell_type": "markdown",
   "source": [
    "Der Zugriff auf den Inhalt der Kästchen erfolgt mit einem Index wobei das erste Kästchen den Index `0` hat. Die Länge einer Liste erhält man\n",
    "mit der Funktion `len`."
   ],
   "metadata": {}
  },
  {
   "cell_type": "code",
   "execution_count": 6,
   "source": [
    "print('Inhalt der Liste l im Kästchen mit der Nummer 1:', l[1])\n",
    "l[1] = 'Auf Wiedersehen!'\n",
    "print('Geänderte Liste:', l)\n",
    "print('Anzahl der Kästchen in l:', len(l))"
   ],
   "outputs": [
    {
     "output_type": "stream",
     "name": "stdout",
     "text": [
      "Inhalt der Liste l im Kästchen mit der Nummer 1: Hallo!\n",
      "Geänderte Liste: [3.141592653589793, 'Auf Wiedersehen!', 2021]\n",
      "Anzahl der Kästchen in l: 3\n"
     ]
    }
   ],
   "metadata": {}
  },
  {
   "cell_type": "markdown",
   "source": [
    "Listen können auch Schritt für Schritt erzeugt werden. Es ist zum Beispiel möglich, mit einer leeren Liste zu beginnen und Kästchen anzuhängen."
   ],
   "metadata": {}
  },
  {
   "cell_type": "code",
   "execution_count": 7,
   "source": [
    "h = []\n",
    "h.append('Bonjour!')\n",
    "h.append(1789)\n",
    "h.append(pi)\n",
    "print(h)"
   ],
   "outputs": [
    {
     "output_type": "stream",
     "name": "stdout",
     "text": [
      "['Bonjour!', 1789, 3.141592653589793]\n"
     ]
    }
   ],
   "metadata": {}
  },
  {
   "cell_type": "markdown",
   "source": [
    "Es gibt vielfältige Möglichkeiten mit Listen zu Arbeiten, im Zweifelsfall hilft ein Blick in die \n",
    "[offizielle Dokumentation](https://docs.python.org/3/tutorial/datastructures.html). Hier ein paar Beispiele"
   ],
   "metadata": {}
  },
  {
   "cell_type": "code",
   "execution_count": 8,
   "source": [
    "print(3 * l)\n",
    "print(l + h)\n",
    "print(h.index(pi))"
   ],
   "outputs": [
    {
     "output_type": "stream",
     "name": "stdout",
     "text": [
      "[3.141592653589793, 'Auf Wiedersehen!', 2021, 3.141592653589793, 'Auf Wiedersehen!', 2021, 3.141592653589793, 'Auf Wiedersehen!', 2021]\n",
      "[3.141592653589793, 'Auf Wiedersehen!', 2021, 'Bonjour!', 1789, 3.141592653589793]\n",
      "2\n"
     ]
    }
   ],
   "metadata": {}
  },
  {
   "cell_type": "markdown",
   "source": [
    "### Ranges\n",
    "\n",
    "Ein nützliches Objekt, das sich ähnlich wie eine Liste verhält (aber keine ist), wird mit `range` erzeugt. Mit den ganzen Zahlen `a` und `b`\n",
    "liefert `range(a, b)` die Sequenz\n",
    "\n",
    "$$\n",
    "    a, a + 1, \\dots, b - 1,\n",
    "$$\n",
    "\n",
    "die obere Grenze `b` ist also nicht enthalten."
   ],
   "metadata": {}
  },
  {
   "cell_type": "code",
   "execution_count": 9,
   "source": [
    "r = range(2, 7)\n",
    "print(r)\n",
    "print('Anzahl Elemente: ', len(r))\n",
    "print('r[0] =', r[0], 'r[1] = ', r[1], '... , r[4] = ', r[4] )"
   ],
   "outputs": [
    {
     "output_type": "stream",
     "name": "stdout",
     "text": [
      "range(2, 7)\n",
      "Anzahl Elemente:  5\n",
      "r[0] = 2 r[1] =  3 ... , r[4] =  6\n"
     ]
    }
   ],
   "metadata": {}
  },
  {
   "cell_type": "markdown",
   "source": [
    "## 5. Kontrollstrukturen\n",
    "\n",
    "### 5.1 Verzweigungen mit if, elif und else\n",
    "\n",
    "In einer **bedingten Anweisung** wird Programmcode wird nur dann ausgeführt, wenn eine Bedingung erfüllt ist."
   ],
   "metadata": {}
  },
  {
   "cell_type": "code",
   "execution_count": 10,
   "source": [
    "a = 33\n",
    "\n",
    "if a < 100:\n",
    "    b = 100 + a\n",
    "    print('Die Zahl', a, 'ist kleiner als 100')\n",
    "    print('b =', b)\n",
    "\n",
    "print('a = ', a)"
   ],
   "outputs": [
    {
     "output_type": "stream",
     "name": "stdout",
     "text": [
      "Die Zahl 33 ist kleiner als 100\n",
      "b = 133\n",
      "a =  33\n"
     ]
    }
   ],
   "metadata": {}
  },
  {
   "cell_type": "markdown",
   "source": [
    "Sie sehen hier zwei besondere Merkmale der Programmiersprache Python - den **Doppelpunkt** und die **Einrückung**:\n",
    "\n",
    "- Der Doppelpunkt hinter der Bedingung sagt, dass jetzt ein Abschnitt Programmcode kommt, der zu dem `if` gehört.\n",
    "- Um diesen Zusammenhang zum Ausdruck zu bringen, werden die zugehörigen Zeilen nach rechts eingerückt. Hierzu verwendet man die Tabulatortaste. \n",
    "\n",
    "Die Ausgabe von `a` soll hingegen auf jeden Fall erfolgen, die Zeile beginnt daher wieder in der ersten Spalte."
   ],
   "metadata": {}
  },
  {
   "cell_type": "markdown",
   "source": [
    "Wenn nach dem `if` noch ein `else` kommt, dann spricht man von einer **Alternative**, der Block nach dem `else` wird ausgeführt, wenn\n",
    "die Bedingung nicht erfüllt ist. "
   ],
   "metadata": {}
  },
  {
   "cell_type": "code",
   "execution_count": 11,
   "source": [
    "a = 433\n",
    "\n",
    "if a < 100:\n",
    "    b = 100 + a\n",
    "    print('Die Zahl', a, 'ist kleiner als 100')\n",
    "else:\n",
    "    b = a - 100\n",
    "    print('Die Zahl', a, 'ist nicht kleiner als 100')\n",
    "\n",
    "print('b =', b)\n",
    "print('a = ', a)"
   ],
   "outputs": [
    {
     "output_type": "stream",
     "name": "stdout",
     "text": [
      "Die Zahl 433 ist nicht kleiner als 100\n",
      "b = 333\n",
      "a =  433\n"
     ]
    }
   ],
   "metadata": {}
  },
  {
   "cell_type": "markdown",
   "source": [
    "Mithilfe des Schlüsselworts `elif` lassen sich **Mehrfachverzweigungen** realisieren. Hier nochmal das Beispiel der quadratischen\n",
    "Gleichung."
   ],
   "metadata": {}
  },
  {
   "cell_type": "code",
   "execution_count": 12,
   "source": [
    "# Eingabe\n",
    "a = 1\n",
    "b = 2\n",
    "c = 1\n",
    "\n",
    "# Diskriminante\n",
    "D = b**2 - 4 * a * c\n",
    "\n",
    "# Fälle\n",
    "if D > 0:\n",
    "    x1 = (-b - sqrt(D)) / (2 * a)\n",
    "    x2 = (-b + sqrt(D)) / (2 * a)\n",
    "    print('Die Gleichung besitzt zwei Lösungen x1 =', x1, ' und x2 =', x2)\n",
    "elif D == 0:\n",
    "    x1 = -b / (2 * a)\n",
    "    print('Die Gleichung besitzt eine Lösung x1 = ', x1)\n",
    "else:\n",
    "    print('Die Gleichung besitzt keine reellwertige Lösung')"
   ],
   "outputs": [
    {
     "output_type": "stream",
     "name": "stdout",
     "text": [
      "Die Gleichung besitzt eine Lösung x1 =  -1.0\n"
     ]
    }
   ],
   "metadata": {}
  },
  {
   "cell_type": "markdown",
   "source": [
    "#### Logische Ausdrücke\n",
    "\n",
    "Logische Ausdrücke werden meist mithilfe der Vergleichsoperatoren `==`, `!=`, `<`, `<=`, `>` und `>=` realisiert. Mithilfe der Schlüsselwörter `and`, `or` und `not` lassen sich\n",
    "mehrere Bedingungen miteinander verknüpfen. \n",
    "\n",
    "Wir sehen das am Beispiel eines Schaltjahres:\n",
    "\n",
    "> Every year that is exactly divisible by four is a leap year, except for years that are exactly divisible by 100, but these centurial years are leap years if they are exactly divisible by 400. For example, the years 1700, 1800, and 1900 are not leap years, but the years 1600 and 2000 are."
   ],
   "metadata": {}
  },
  {
   "cell_type": "code",
   "execution_count": 13,
   "source": [
    "y = 1900\n",
    "\n",
    "if y%400 == 0 or (y%4 == 0 and not y%100 == 0):\n",
    "    print('Das Jahr', y, 'ist ein Schaltjahr')\n",
    "else:\n",
    "    print('Kein Schaltjahr:', y)"
   ],
   "outputs": [
    {
     "output_type": "stream",
     "name": "stdout",
     "text": [
      "Kein Schaltjahr: 1900\n"
     ]
    }
   ],
   "metadata": {}
  },
  {
   "cell_type": "markdown",
   "source": [
    "### 5.2 Schleifen\n",
    "\n",
    "In einer ***`for` - Schleife*** nimmt eine Schleifenvariable nacheinander alle Werte eines listenartigen Objekts an (etwas vereinfacht gesagt).\n",
    "\n",
    "In der einfachsten Form sieht das so aus:"
   ],
   "metadata": {}
  },
  {
   "cell_type": "code",
   "execution_count": 14,
   "source": [
    "list = [42, pi, 'Hallo!', 1 / 3]\n",
    "\n",
    "for o in list:\n",
    "    print('Element', o)"
   ],
   "outputs": [
    {
     "output_type": "stream",
     "name": "stdout",
     "text": [
      "Element 42\n",
      "Element 3.141592653589793\n",
      "Element Hallo!\n",
      "Element 0.3333333333333333\n"
     ]
    }
   ],
   "metadata": {}
  },
  {
   "cell_type": "markdown",
   "source": [
    "Sie sehen wieder die von der Alternative schon bekannte Kombination von Doppelpunkt und Einrückung!\n",
    "\n",
    "Manchmal ist es wichtig zu wissen, an welcher Position ein Element der Liste steht. In diesem Fall verwendet man eine \n",
    "Zählvariable (in der Regel `i`, `j` oder `k`) in Kombination mit der `range` - Funktion und häufig auch `len`."
   ],
   "metadata": {}
  },
  {
   "cell_type": "code",
   "execution_count": 15,
   "source": [
    "for i in range(0, len(list)):\n",
    "    print('Element an Position', i, 'ist', list[i])"
   ],
   "outputs": [
    {
     "output_type": "stream",
     "name": "stdout",
     "text": [
      "Element an Position 0 ist 42\n",
      "Element an Position 1 ist 3.141592653589793\n",
      "Element an Position 2 ist Hallo!\n",
      "Element an Position 3 ist 0.3333333333333333\n"
     ]
    }
   ],
   "metadata": {}
  },
  {
   "cell_type": "markdown",
   "source": [
    "Bei einer `while` - Schleife werden Anweisungen so lange ausgeführt wie eine Fortsetzungsbeding erfüllt ist. Sehr häufig werden `while` - Schleifen \n",
    "bei numerischen Näherungsverfahren verwendet, zum Beispiel bei der Berechnung einer Quadratwurzel mit dem Heron-Verfahren."
   ],
   "metadata": {}
  },
  {
   "cell_type": "code",
   "execution_count": 16,
   "source": [
    "# Wir suchen die Wurzel aus dieser Zahl\n",
    "a = 2\n",
    "\n",
    "# Startwert für die Näherungslösung\n",
    "x = 1\n",
    "\n",
    "# Iteration\n",
    "while abs(x**2 - a) > 1e-15:\n",
    "    x = 0.5 * (x + a / x)\n",
    "    print('Zwischenergebnis:', x)\n",
    "\n",
    "# Ergebnis\n",
    "print('Ergebnis: x =', x, 'mit x^2 =', x**2)"
   ],
   "outputs": [
    {
     "output_type": "stream",
     "name": "stdout",
     "text": [
      "Zwischenergebnis: 1.5\n",
      "Zwischenergebnis: 1.4166666666666665\n",
      "Zwischenergebnis: 1.4142156862745097\n",
      "Zwischenergebnis: 1.4142135623746899\n",
      "Zwischenergebnis: 1.414213562373095\n",
      "Ergebnis: x = 1.414213562373095 mit x^2 = 1.9999999999999996\n"
     ]
    }
   ],
   "metadata": {}
  },
  {
   "cell_type": "markdown",
   "source": [
    "Dafür, welche der beiden Arten von Schleifen verwendet werden soll gibt es eine einfach Regel:\n",
    "- Verwenden Sie eine `for` - Schleife, wenn vorab bekannt ist, wie oft die Schleife durchlaufen werden soll. Dies ist insbesondere\n",
    "bei der Verarbeitung von Listen der Fall.\n",
    "- Andernfalls ist meist eine `while` - Schleife sinnvoll."
   ],
   "metadata": {}
  },
  {
   "cell_type": "markdown",
   "source": [
    "## 6. Funktionen\n",
    "\n",
    "Eine Funktion fasst Anweisungen so zusammen, so dass Sie mit unterschiedlichen Eingabewerten ausgeführt werden können. Hier ein Beispiel, in dem\n",
    "der größte gemeinsame Teiler von zwei ganzen Zahlen bestimmt wird ([Verfahren von Euklid](https://de.wikipedia.org/wiki/Euklidischer_Algorithmus))."
   ],
   "metadata": {}
  },
  {
   "cell_type": "code",
   "execution_count": 17,
   "source": [
    "def ggt(a, b):\n",
    "    while b != 0:\n",
    "        h = a % b\n",
    "        a = b\n",
    "        b = h\n",
    "    return a\n",
    "\n",
    "print('GGT von 33 und 88 ist', ggt(33, 88))"
   ],
   "outputs": [
    {
     "output_type": "stream",
     "name": "stdout",
     "text": [
      "GGT von 33 und 88 ist 11\n"
     ]
    }
   ],
   "metadata": {}
  },
  {
   "cell_type": "markdown",
   "source": [
    "Eine Funktion beginnt also mit dem Schlüsselwort `def` gefolgt von dem Funktionsnamen, einer Parameterliste und (wieder) einem Doppelpunkt. Danach kommen\n",
    "eingerückt die Anweisungen im Rumpf der Funktion. Das berechnete Ergebnis wird mit `return` zurück gegeben.\n",
    "\n",
    "### Funktionen in eigenen Dateien\n",
    "\n",
    "Sollen Funktionen in mehreren Jupyter Notebooks verwendet werden, dann kann man sie in eine eigene Python-Datei auslagern. Zum Beispiel enthält die Datei\n",
    "`number_functions.py` Funktionen aus dem Bereich der Zahlentheorie. Um diese zu verwenden müssen sie zunächst importiert werden."
   ],
   "metadata": {}
  },
  {
   "cell_type": "code",
   "execution_count": 1,
   "source": [
    "# Importieren\n",
    "from number_functions import *\n",
    "\n",
    "# Funktionen verwenden\n",
    "print('2 ist prim: ', is_prime(2))\n",
    "print('11 ist prim: ', is_prime(11))\n",
    "print('111 ist prim: ', is_prime(111))\n",
    "print('Primfaktoren von 126: ', prime_factors(126))\n",
    "\n",
    "# Test der Funktion is_prime\n",
    "passed = True\n",
    "for n in range(1, 10001):\n",
    "    product = 1\n",
    "    factors = prime_factors(n)\n",
    "    for f in factors:\n",
    "        product *= f\n",
    "        if not is_prime(f):\n",
    "            print('n =', n, ': Faktor', f, 'ist nicht prim')\n",
    "            passed = False\n",
    "    if product != n:\n",
    "        print('n = ', n, ': Nicht Produkt der Primfaktoren: ', n)\n",
    "        passed = False\n",
    "if passed:\n",
    "    print('Primfaktoren für die Zahlen von 1 bis 10000 sind OK')\n",
    "\n",
    "# Nervig: Wenn wir in der Funktion etwas ändern wird sie standardmäßig nicht neu\n",
    "# geladen. Die autoreload - Erweiterung löst dieses Problem.\n",
    "%load_ext autoreload\n",
    "%autoreload 2"
   ],
   "outputs": [
    {
     "output_type": "stream",
     "name": "stdout",
     "text": [
      "2 ist prim:  True\n",
      "11 ist prim:  True\n",
      "111 ist prim:  False\n",
      "Primfaktoren von 126:  [2, 3, 3, 7]\n",
      "Primfaktoren für die Zahlen von 1 bis 10000 sind OK\n"
     ]
    }
   ],
   "metadata": {}
  },
  {
   "cell_type": "markdown",
   "source": [
    "Tipp: In den Funktionen ist ein so genannter Docstring enthalten, der die Funktion beschreibt. \n",
    "Damit erhält man eine Erklärung zur Funktion, wenn man den Mauszeiger über den Funktionsaufruf hält.\n",
    "\n",
    "### Parametrisierte Funktionen\n",
    "\n",
    "Aus der Mathematik kennen Sie Funktionenscharen der Form\n",
    "\n",
    "$$\n",
    "    f_n(x) = (1 - x/n)^2.\n",
    "$$\n",
    "\n",
    "Gemeint ist damit, dass wir für jede Zahl $n$ eine Funktion $f_n$ erhalten, zum Beispiel\n",
    "\n",
    "$$\n",
    "    f_1(x) = (1 - x) ^ 2 \\quad \\text{oder} \\quad f_5(x) = (1 - x / 5)^2.\n",
    "$$\n",
    "\n",
    "In Python lässt sich das durch eine Funktion realisieren, die eine Funktion zurückliefert. Für unser Beispiel\n",
    "sieht das so aus:"
   ],
   "metadata": {}
  },
  {
   "cell_type": "code",
   "execution_count": 19,
   "source": [
    "def make_fn(n):\n",
    "    def fn(x):\n",
    "        return (1 - x / n)**2\n",
    "    return fn\n",
    "\n",
    "f1 = make_fn(1)\n",
    "f5 = make_fn(5)\n",
    "\n",
    "print('f1(2) =', f1(2))\n",
    "print('f5(2) =', f5(2))"
   ],
   "outputs": [
    {
     "output_type": "stream",
     "name": "stdout",
     "text": [
      "f1(2) = 1.0\n",
      "f5(2) = 0.36\n"
     ]
    }
   ],
   "metadata": {}
  }
 ],
 "metadata": {
  "orig_nbformat": 4,
  "language_info": {
   "name": "python",
   "version": "3.9.7",
   "mimetype": "text/x-python",
   "codemirror_mode": {
    "name": "ipython",
    "version": 3
   },
   "pygments_lexer": "ipython3",
   "nbconvert_exporter": "python",
   "file_extension": ".py"
  },
  "kernelspec": {
   "name": "python3",
   "display_name": "Python 3.9.7 64-bit"
  },
  "interpreter": {
   "hash": "aee8b7b246df8f9039afb4144a1f6fd8d2ca17a180786b69acc140d282b71a49"
  }
 },
 "nbformat": 4,
 "nbformat_minor": 2
}